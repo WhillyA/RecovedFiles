{
 "cells": [
  {
   "cell_type": "code",
   "execution_count": null,
   "id": "6f0578a9",
   "metadata": {},
   "outputs": [],
   "source": [
    "#? en el cmd para activar el entorno virtual\n",
    "Set-ExecutionPolicy -Scope Process -ExecutionPolicy Bypass\n",
    ".\\python\\venv\\Scripts\\Activate.ps1\n"
   ]
  },
  {
   "cell_type": "code",
   "execution_count": null,
   "id": "02f7bb46",
   "metadata": {},
   "outputs": [],
   "source": []
  },
  {
   "cell_type": "code",
   "execution_count": 9,
   "id": "ef3b5aa6-102c-4abf-8466-3f15359d2c18",
   "metadata": {},
   "outputs": [
    {
     "name": "stdout",
     "output_type": "stream",
     "text": [
      "Looking in indexes: https://download.pytorch.org/whl/cu118\n",
      "Requirement already satisfied: torch in d:\\tesis\\python\\venv\\lib\\site-packages (2.7.0)\n",
      "Requirement already satisfied: torchvision in d:\\tesis\\python\\venv\\lib\\site-packages (0.22.0)\n",
      "Requirement already satisfied: torchaudio in d:\\tesis\\python\\venv\\lib\\site-packages (2.7.0)\n",
      "Requirement already satisfied: filelock in d:\\tesis\\python\\venv\\lib\\site-packages (from torch) (3.18.0)\n",
      "Requirement already satisfied: typing-extensions>=4.10.0 in d:\\tesis\\python\\venv\\lib\\site-packages (from torch) (4.13.2)\n",
      "Requirement already satisfied: sympy>=1.13.3 in d:\\tesis\\python\\venv\\lib\\site-packages (from torch) (1.14.0)\n",
      "Requirement already satisfied: networkx in d:\\tesis\\python\\venv\\lib\\site-packages (from torch) (3.4.2)\n",
      "Requirement already satisfied: jinja2 in d:\\tesis\\python\\venv\\lib\\site-packages (from torch) (3.1.6)\n",
      "Requirement already satisfied: fsspec in d:\\tesis\\python\\venv\\lib\\site-packages (from torch) (2025.3.2)\n",
      "Requirement already satisfied: numpy in d:\\tesis\\python\\venv\\lib\\site-packages (from torchvision) (2.1.3)\n",
      "Requirement already satisfied: pillow!=8.3.*,>=5.3.0 in d:\\tesis\\python\\venv\\lib\\site-packages (from torchvision) (11.2.1)\n",
      "Requirement already satisfied: mpmath<1.4,>=1.1.0 in d:\\tesis\\python\\venv\\lib\\site-packages (from sympy>=1.13.3->torch) (1.3.0)\n",
      "Requirement already satisfied: MarkupSafe>=2.0 in d:\\tesis\\python\\venv\\lib\\site-packages (from jinja2->torch) (3.0.2)\n",
      "Note: you may need to restart the kernel to use updated packages.\n"
     ]
    },
    {
     "name": "stderr",
     "output_type": "stream",
     "text": [
      "WARNING: Ignoring invalid distribution ~ip (d:\\Tesis\\python\\venv\\Lib\\site-packages)\n",
      "WARNING: Ignoring invalid distribution ~ip (d:\\Tesis\\python\\venv\\Lib\\site-packages)\n",
      "WARNING: Ignoring invalid distribution ~ip (d:\\Tesis\\python\\venv\\Lib\\site-packages)\n"
     ]
    }
   ],
   "source": [
    "pip install torch torchvision torchaudio --index-url https://download.pytorch.org/whl/cu118\n"
   ]
  },
  {
   "cell_type": "code",
   "execution_count": 2,
   "id": "57c24cee",
   "metadata": {},
   "outputs": [
    {
     "ename": "SyntaxError",
     "evalue": "invalid syntax (4063666906.py, line 2)",
     "output_type": "error",
     "traceback": [
      "  \u001b[36mCell\u001b[39m\u001b[36m \u001b[39m\u001b[32mIn[2]\u001b[39m\u001b[32m, line 2\u001b[39m\n\u001b[31m    \u001b[39m\u001b[31mpip install torch torchvision torchaudio\u001b[39m\n        ^\n\u001b[31mSyntaxError\u001b[39m\u001b[31m:\u001b[39m invalid syntax\n"
     ]
    }
   ],
   "source": [
    "#terminal bey \n",
    "pip install torch torchvision torchaudio\n",
    "#despues\n",
    "git clone https://github.com/ultralytics/yolov5.git\n",
    "cd yolov5\n",
    "#luego\n",
    "pip install -U -r requirements.txt\n"
   ]
  },
  {
   "cell_type": "code",
   "execution_count": 3,
   "id": "7ef4c6ed",
   "metadata": {},
   "outputs": [
    {
     "name": "stdout",
     "output_type": "stream",
     "text": [
      " El volumen de la unidad D es Nuevo vol\n",
      " El n£mero de serie del volumen es: 520D-5B23\n",
      "\n",
      " Directorio de D:\\Tesis\\python\n",
      "\n",
      "29/04/2025  19:29    <DIR>          .\n",
      "29/04/2025  19:29    <DIR>          ..\n",
      "29/04/2025  19:34    <DIR>          .ipynb_checkpoints\n",
      "13/04/2025  13:17            10.529 040425-20pm.py\n",
      "12/04/2025  18:36             3.055 050425-16pm.py\n",
      "22/04/2025  14:18             3.324 050425-16pm-ACTIVE.py\n",
      "12/04/2025  18:36             2.923 050425-17pm.py\n",
      "19/04/2025  09:01             3.039 050425-17pm-ACTIVE.py\n",
      "12/04/2025  19:10             2.133 1.3-redimensionar.py\n",
      "12/04/2025  18:36             2.004 1.redimensionar.py\n",
      "12/04/2025  19:24            11.572 110425-21pm.py\n",
      "20/04/2025  13:17            11.625 110425-21pm-ACTIVE.py\n",
      "12/04/2025  18:36             3.634 1-2.redimiensinar.py\n",
      "13/04/2025  16:28             2.462 130425-16pm.py\n",
      "13/04/2025  18:34             2.525 130425-16pm-ACTIVE.py\n",
      "22/04/2025  19:20            12.952 130425-18pm-ACTIVE.py\n",
      "26/04/2025  19:08             3.083 190425-10pm-ACTIVE.py\n",
      "22/04/2025  18:54            12.884 190425-7am-ACTIVE.py\n",
      "19/04/2025  09:01            11.639 190425-7am-REVISE.py\n",
      "26/04/2025  19:16             6.012 190425-8am-ACTIVE.py\n",
      "19/04/2025  09:01             5.137 190425-8am-REVISE.py\n",
      "19/04/2025  09:38             3.132 190425-8am-REVISE2.py\n",
      "12/04/2025  18:36             3.998 2.rotacion.py\n",
      "26/04/2025  12:34            14.048 220425-2pm.py\n",
      "28/04/2025  15:12            13.239 220425-2pm-ACTIVE-V2.py\n",
      "29/04/2025  15:12             3.301 280425-18pm copy.py\n",
      "28/04/2025  18:28             2.392 280425-18pm.py\n",
      "29/04/2025  15:04             3.012 280425-19pm.py\n",
      "29/04/2025  17:53             3.109 290425-15pm.py\n",
      "12/04/2025  18:36             4.006 3.contraste.py\n",
      "12/04/2025  18:36             8.878 3.DS_contraste.py\n",
      "12/04/2025  19:22             7.227 4.coordenadas.py\n",
      "12/04/2025  19:22             7.024 4.DS_coordenadas.py\n",
      "12/04/2025  18:36             2.320 5.txt.py\n",
      "12/04/2025  18:36             4.791 6.verificar_YoloV5.py\n",
      "12/04/2025  18:36             3.027 7.dataset.py\n",
      "12/04/2025  18:36               643 8.YAML.py\n",
      "12/04/2025  18:36             2.531 boundingboxToCsv2.py\n",
      "12/04/2025  18:36             3.366 celdasTabla.py\n",
      "12/04/2025  18:36             4.138 celdasTablas2.py\n",
      "12/04/2025  18:36               900 config.py\n",
      "12/04/2025  18:36               169 confige.py\n",
      "22/04/2025  15:45             1.363 corregirCsvDatestamp.py\n",
      "12/04/2025  18:36             2.138 Extraer_areas.py\n",
      "12/04/2025  18:36             8.075 filt.py\n",
      "12/04/2025  18:36             3.026 filtros.py\n",
      "12/04/2025  18:36             3.125 filtrosCv2.py\n",
      "12/04/2025  18:36             8.801 filtrosImg.py\n",
      "12/04/2025  18:36             2.189 filtrosRev.py\n",
      "12/04/2025  18:36             3.872 fitros2.py\n",
      "12/04/2025  18:36         2.329.015 get-pip.py\n",
      "12/04/2025  18:43             1.509 github.py\n",
      "21/04/2025  07:40             1.546 github-ACTIVE.py\n",
      "12/04/2025  18:36               224 gpu.py\n",
      "29/04/2025  07:50             1.461 medirtama¤os.py\n",
      "29/04/2025  19:36            10.611 numero.ipynb\n",
      "12/04/2025  18:36             5.454 precio.py\n",
      "12/04/2025  18:36               469 prueba.py\n",
      "13/04/2025  10:23               214 pruebadsa.py\n",
      "12/04/2025  18:36             2.339 separAreas.py\n",
      "29/04/2025  18:29    <DIR>          venv\n",
      "29/04/2025  19:14                84 veresr.py\n",
      "29/04/2025  18:13    <DIR>          yolov5_entrenamiento\n",
      "              58 archivos      2.591.298 bytes\n",
      "               5 dirs  16.798.904.320 bytes libres\n"
     ]
    }
   ],
   "source": [
    "ls"
   ]
  },
  {
   "cell_type": "code",
   "execution_count": 4,
   "id": "48959b1f",
   "metadata": {},
   "outputs": [],
   "source": [
    "YOLO_MODEL     = 'yolov5s' # puede ser yolov5m, yolov5l, yolov5x\n",
    "EPOCHS         = 50\n",
    "CFG            = YOLO_MODEL+'.yaml'\n",
    "TRAIN_WEIGHTS  = YOLO_MODEL+'.pt'  # o pesos de otro modelo propio pre-entrenado\n",
    "BATCH          = 16\n",
    "IMG_SIZE       = 128  #mas cercano a 720*960\n",
    "YAMLFILE       = '../dataset_yolo_split/data.yaml'\n",
    "NAME           = 'dataset_yolo_split'"
   ]
  },
  {
   "cell_type": "code",
   "execution_count": 7,
   "id": "be39ded4",
   "metadata": {},
   "outputs": [
    {
     "name": "stdout",
     "output_type": "stream",
     "text": [
      "D:\\Tesis\\yolov5\n"
     ]
    }
   ],
   "source": [
    "cd yolov5"
   ]
  },
  {
   "cell_type": "code",
   "execution_count": 10,
   "id": "8c03f66c",
   "metadata": {},
   "outputs": [
    {
     "name": "stdout",
     "output_type": "stream",
     "text": [
      "False\n"
     ]
    },
    {
     "ename": "AssertionError",
     "evalue": "Torch not compiled with CUDA enabled",
     "output_type": "error",
     "traceback": [
      "\u001b[31m---------------------------------------------------------------------------\u001b[39m",
      "\u001b[31mAssertionError\u001b[39m                            Traceback (most recent call last)",
      "\u001b[36mCell\u001b[39m\u001b[36m \u001b[39m\u001b[32mIn[10]\u001b[39m\u001b[32m, line 3\u001b[39m\n\u001b[32m      1\u001b[39m \u001b[38;5;28;01mimport\u001b[39;00m\u001b[38;5;250m \u001b[39m\u001b[34;01mtorch\u001b[39;00m\n\u001b[32m      2\u001b[39m \u001b[38;5;28mprint\u001b[39m(torch.cuda.is_available())\n\u001b[32m----> \u001b[39m\u001b[32m3\u001b[39m \u001b[38;5;28mprint\u001b[39m(\u001b[43mtorch\u001b[49m\u001b[43m.\u001b[49m\u001b[43mcuda\u001b[49m\u001b[43m.\u001b[49m\u001b[43mget_device_name\u001b[49m\u001b[43m(\u001b[49m\u001b[32;43m0\u001b[39;49m\u001b[43m)\u001b[49m)\n",
      "\u001b[36mFile \u001b[39m\u001b[32md:\\Tesis\\python\\venv\\Lib\\site-packages\\torch\\cuda\\__init__.py:544\u001b[39m, in \u001b[36mget_device_name\u001b[39m\u001b[34m(device)\u001b[39m\n\u001b[32m    532\u001b[39m \u001b[38;5;28;01mdef\u001b[39;00m\u001b[38;5;250m \u001b[39m\u001b[34mget_device_name\u001b[39m(device: Optional[_device_t] = \u001b[38;5;28;01mNone\u001b[39;00m) -> \u001b[38;5;28mstr\u001b[39m:\n\u001b[32m    533\u001b[39m \u001b[38;5;250m    \u001b[39m\u001b[33mr\u001b[39m\u001b[33;03m\"\"\"Get the name of a device.\u001b[39;00m\n\u001b[32m    534\u001b[39m \n\u001b[32m    535\u001b[39m \u001b[33;03m    Args:\u001b[39;00m\n\u001b[32m   (...)\u001b[39m\u001b[32m    542\u001b[39m \u001b[33;03m        str: the name of the device\u001b[39;00m\n\u001b[32m    543\u001b[39m \u001b[33;03m    \"\"\"\u001b[39;00m\n\u001b[32m--> \u001b[39m\u001b[32m544\u001b[39m     \u001b[38;5;28;01mreturn\u001b[39;00m \u001b[43mget_device_properties\u001b[49m\u001b[43m(\u001b[49m\u001b[43mdevice\u001b[49m\u001b[43m)\u001b[49m.name\n",
      "\u001b[36mFile \u001b[39m\u001b[32md:\\Tesis\\python\\venv\\Lib\\site-packages\\torch\\cuda\\__init__.py:576\u001b[39m, in \u001b[36mget_device_properties\u001b[39m\u001b[34m(device)\u001b[39m\n\u001b[32m    564\u001b[39m \u001b[38;5;28;01mdef\u001b[39;00m\u001b[38;5;250m \u001b[39m\u001b[34mget_device_properties\u001b[39m(device: Optional[_device_t] = \u001b[38;5;28;01mNone\u001b[39;00m) -> _CudaDeviceProperties:\n\u001b[32m    565\u001b[39m \u001b[38;5;250m    \u001b[39m\u001b[33mr\u001b[39m\u001b[33;03m\"\"\"Get the properties of a device.\u001b[39;00m\n\u001b[32m    566\u001b[39m \n\u001b[32m    567\u001b[39m \u001b[33;03m    Args:\u001b[39;00m\n\u001b[32m   (...)\u001b[39m\u001b[32m    574\u001b[39m \u001b[33;03m        _CudaDeviceProperties: the properties of the device\u001b[39;00m\n\u001b[32m    575\u001b[39m \u001b[33;03m    \"\"\"\u001b[39;00m\n\u001b[32m--> \u001b[39m\u001b[32m576\u001b[39m     \u001b[43m_lazy_init\u001b[49m\u001b[43m(\u001b[49m\u001b[43m)\u001b[49m  \u001b[38;5;66;03m# will define _get_device_properties\u001b[39;00m\n\u001b[32m    577\u001b[39m     device = _get_device_index(device, optional=\u001b[38;5;28;01mTrue\u001b[39;00m)\n\u001b[32m    578\u001b[39m     \u001b[38;5;28;01mif\u001b[39;00m device < \u001b[32m0\u001b[39m \u001b[38;5;129;01mor\u001b[39;00m device >= device_count():\n",
      "\u001b[36mFile \u001b[39m\u001b[32md:\\Tesis\\python\\venv\\Lib\\site-packages\\torch\\cuda\\__init__.py:363\u001b[39m, in \u001b[36m_lazy_init\u001b[39m\u001b[34m()\u001b[39m\n\u001b[32m    358\u001b[39m     \u001b[38;5;28;01mraise\u001b[39;00m \u001b[38;5;167;01mRuntimeError\u001b[39;00m(\n\u001b[32m    359\u001b[39m         \u001b[33m\"\u001b[39m\u001b[33mCannot re-initialize CUDA in forked subprocess. To use CUDA with \u001b[39m\u001b[33m\"\u001b[39m\n\u001b[32m    360\u001b[39m         \u001b[33m\"\u001b[39m\u001b[33mmultiprocessing, you must use the \u001b[39m\u001b[33m'\u001b[39m\u001b[33mspawn\u001b[39m\u001b[33m'\u001b[39m\u001b[33m start method\u001b[39m\u001b[33m\"\u001b[39m\n\u001b[32m    361\u001b[39m     )\n\u001b[32m    362\u001b[39m \u001b[38;5;28;01mif\u001b[39;00m \u001b[38;5;129;01mnot\u001b[39;00m \u001b[38;5;28mhasattr\u001b[39m(torch._C, \u001b[33m\"\u001b[39m\u001b[33m_cuda_getDeviceCount\u001b[39m\u001b[33m\"\u001b[39m):\n\u001b[32m--> \u001b[39m\u001b[32m363\u001b[39m     \u001b[38;5;28;01mraise\u001b[39;00m \u001b[38;5;167;01mAssertionError\u001b[39;00m(\u001b[33m\"\u001b[39m\u001b[33mTorch not compiled with CUDA enabled\u001b[39m\u001b[33m\"\u001b[39m)\n\u001b[32m    364\u001b[39m \u001b[38;5;28;01mif\u001b[39;00m _cudart \u001b[38;5;129;01mis\u001b[39;00m \u001b[38;5;28;01mNone\u001b[39;00m:\n\u001b[32m    365\u001b[39m     \u001b[38;5;28;01mraise\u001b[39;00m \u001b[38;5;167;01mAssertionError\u001b[39;00m(\n\u001b[32m    366\u001b[39m         \u001b[33m\"\u001b[39m\u001b[33mlibcudart functions unavailable. It looks like you have a broken build?\u001b[39m\u001b[33m\"\u001b[39m\n\u001b[32m    367\u001b[39m     )\n",
      "\u001b[31mAssertionError\u001b[39m: Torch not compiled with CUDA enabled"
     ]
    }
   ],
   "source": [
    "import torch\n",
    "print(torch.cuda.is_available())\n",
    "print(torch.cuda.get_device_name(0))"
   ]
  },
  {
   "cell_type": "code",
   "execution_count": 15,
   "id": "7c6d76c4",
   "metadata": {},
   "outputs": [
    {
     "name": "stderr",
     "output_type": "stream",
     "text": [
      "Traceback (most recent call last):\n",
      "  File \"d:\\Tesis\\yolov5\\train.py\", line 34, in <module>\n",
      "    import torch\n",
      "ModuleNotFoundError: No module named 'torch'\n"
     ]
    }
   ],
   "source": [
    "!python train.py --img {IMG_SIZE} --batch {BATCH} --epochs {EPOCHS} --data {YAMLFILE} --cfg {CFG} --weights {TRAIN_WEIGHTS} --name {NAME} --cache --exist-ok --save-period 10 --hyp data/hyps/hyp.scratch-low.yaml --rect"
   ]
  },
  {
   "cell_type": "code",
   "execution_count": null,
   "id": "e237d540",
   "metadata": {},
   "outputs": [],
   "source": [
    "import torch\n",
    "import matplotlib.pyplot as plt\n",
    "from PIL import Image\n",
    "import numpy as np\n",
    "import cv2\n",
    "\n",
    "# Asegurar renderizado en notebooks\n",
    "%matplotlib inline\n",
    "\n",
    "# Cargar modelo\n",
    "model = torch.hub.load('ultralytics/yolov5', 'custom',\n",
    "                       path='/content/yolov5/runs/train/dataset_yolo_split/weights/last.pt')\n",
    "\n",
    "# Cargar imagen\n",
    "img_path = '/content/dataset_yolo_split/images/test/IMG_20250302_124849_box4_56.jpg'\n",
    "original_img = Image.open(img_path).convert('RGB')\n",
    "img_np = np.array(original_img)\n",
    "\n",
    "# Obtener detecciones\n",
    "results = model(img_path)\n",
    "detections = results.pandas().xyxy[0]\n",
    "\n",
    "# Crear copia para dibujar solo cajas\n",
    "img_boxes = img_np.copy()\n",
    "\n",
    "if not detections.empty:\n",
    "    for _, row in detections.iterrows():\n",
    "        x1, y1, x2, y2 = int(row['xmin']), int(row['ymin']), int(row['xmax']), int(row['ymax'])\n",
    "        color = (0, 255, 0)  # Verde\n",
    "        thickness = 2\n",
    "        cv2.rectangle(img_boxes, (x1, y1), (x2, y2), color, thickness)\n",
    "\n",
    "# Mostrar lado a lado\n",
    "plt.figure(figsize=(18, 9))\n",
    "\n",
    "# Imagen original\n",
    "plt.subplot(1, 2, 1)\n",
    "plt.imshow(original_img)\n",
    "plt.title('📷 Imagen original', fontsize=14)\n",
    "plt.axis('off')\n",
    "\n",
    "# Imagen con solo cajas\n",
    "plt.subplot(1, 2, 2)\n",
    "plt.imshow(img_boxes)\n",
    "plt.title(f'🟩 Detecciones: {len(detections)} objetos', fontsize=14)\n",
    "plt.axis('off')\n",
    "\n",
    "plt.tight_layout()\n",
    "plt.show()\n",
    "\n",
    "# Tabla con detalles\n",
    "if not detections.empty:\n",
    "    print(\"\\n🔍 Detalles de las detecciones:\")\n",
    "    print(\"-\" * 50)\n",
    "    for i, (_, row) in enumerate(detections.sort_values('xmin').iterrows(), 1):\n",
    "        print(f\"\"\"Detección {i}:\n",
    "    Carácter: {row['name']}\n",
    "    Clase: {row['class']}\n",
    "    Confianza: {row['confidence']:.2%}\n",
    "    Posición X: {row['xmin']:.1f}-{row['xmax']:.1f}\n",
    "    Posición Y: {row['ymin']:.1f}-{row['ymax']:.1f}\n",
    "        \"\"\")\n",
    "    print(f\"\\n🔢 Secuencia detectada: {''.join(detections.sort_values('xmin')['name'].tolist())}\")\n",
    "else:\n",
    "    print(\"\\n⚠️ No se detectaron caracteres\")"
   ]
  }
 ],
 "metadata": {
  "kernelspec": {
   "display_name": "Python 3",
   "language": "python",
   "name": "python3"
  },
  "language_info": {
   "codemirror_mode": {
    "name": "ipython",
    "version": 3
   },
   "file_extension": ".py",
   "mimetype": "text/x-python",
   "name": "python",
   "nbconvert_exporter": "python",
   "pygments_lexer": "ipython3",
   "version": "3.11.3"
  }
 },
 "nbformat": 4,
 "nbformat_minor": 5
}
